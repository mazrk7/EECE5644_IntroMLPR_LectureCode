{
 "cells": [
  {
   "cell_type": "markdown",
   "id": "2981aecd",
   "metadata": {},
   "source": [
    "# Kalman Filter (KF)\n",
    "\n",
    "The KF is one of the most widely used algorithms in time-series applications, such as tracking objects or state estimation in robot navigation. In this notebook, we'll provide a brief overview of the main theory underlying the KF and then demonstrate its utility in an application where we track an object moving in $\\mathbb{R}^3$ space, given noisy measurements of its location.\n",
    "\n",
    "Below are the necessary imports for this notebook:"
   ]
  },
  {
   "cell_type": "code",
   "execution_count": null,
   "id": "599cf97b",
   "metadata": {},
   "outputs": [],
   "source": [
    "# Widget to manipulate plots in Jupyter notebooks\n",
    "%matplotlib widget \n",
    "\n",
    "import matplotlib.pyplot as plt # For general plotting\n",
    "\n",
    "# GPU suitable form of NumPy, also works on the CPU\n",
    "from jax import numpy as jnp\n",
    "from jax import random as jr\n",
    "from jax import vmap\n",
    "\n",
    "# JAX library for SSMs\n",
    "from dynamax.utils.plotting import plot_uncertainty_ellipses\n",
    "from dynamax.linear_gaussian_ssm import LinearGaussianSSM\n",
    "from dynamax.linear_gaussian_ssm import lgssm_smoother, lgssm_filter\n",
    "\n",
    "jnp.set_printoptions(suppress=True)\n",
    "\n",
    "# Set seed to generate reproducible \"pseudo-randomness\"\n",
    "jnp.random.seed(7)\n",
    "\n",
    "plt.rc('font', size=22)          # controls default text sizes\n",
    "plt.rc('axes', titlesize=18)     # fontsize of the axes title\n",
    "plt.rc('axes', labelsize=18)     # fontsize of the x and y labels\n",
    "plt.rc('xtick', labelsize=14)    # fontsize of the tick labels\n",
    "plt.rc('ytick', labelsize=14)    # fontsize of the tick labels\n",
    "plt.rc('legend', fontsize=16)    # legend fontsize\n",
    "plt.rc('figure', titlesize=22)   # fontsize of the figure title"
   ]
  },
  {
   "cell_type": "markdown",
   "id": "34be2446",
   "metadata": {},
   "source": [
    "<b>Aside:</b> please note the inclusion of [JAX](https://github.com/google/jax) and [Dynamax](https://github.com/probml/dynamax). JAX is akin to NumPy in syntax and use, but processes instructions on the GPU, efficiently computes gradients (autograd), and reaps the benefits of [just-in-time (JIT) compilation](https://en.wikipedia.org/wiki/Just-in-time_compilation) (e.g., [Numba](https://numba.pydata.org/)), which are all advantageous features for machine learning coding. \n",
    "\n",
    "Dynamax is a library written in JAX for <b>state space models (SSMs)</b>. The KF is an algorithm that applies to a special type of SSM: a <b>Linear-Gaussian SSM (LG-SSM)</b>. \n",
    "\n",
    "You should follow the [installation instructions](https://github.com/google/jax#installation) for JAX (feel free to use CPU/GPU in this notebook). You can also refer [here](https://github.com/cloudhan/jax-windows-builder) if you're a Windows user."
   ]
  },
  {
   "cell_type": "markdown",
   "id": "331f1648",
   "metadata": {},
   "source": [
    "## Bayesian Filtering & Smoothing\n",
    "\n",
    "Before proceeding with "
   ]
  },
  {
   "cell_type": "markdown",
   "id": "05953a9f",
   "metadata": {},
   "source": []
  }
 ],
 "metadata": {
  "kernelspec": {
   "display_name": "Python 3 (ipykernel)",
   "language": "python",
   "name": "python3"
  },
  "language_info": {
   "codemirror_mode": {
    "name": "ipython",
    "version": 3
   },
   "file_extension": ".py",
   "mimetype": "text/x-python",
   "name": "python",
   "nbconvert_exporter": "python",
   "pygments_lexer": "ipython3",
   "version": "3.8.16"
  }
 },
 "nbformat": 4,
 "nbformat_minor": 5
}
